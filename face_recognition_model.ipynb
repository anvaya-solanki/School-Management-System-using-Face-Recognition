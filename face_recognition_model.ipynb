{
 "cells": [
  {
   "cell_type": "code",
   "execution_count": 9,
   "metadata": {},
   "outputs": [],
   "source": [
    "import cv2\n",
    "import numpy as np\n",
    "import face_recognition as fr"
   ]
  },
  {
   "cell_type": "code",
   "execution_count": 10,
   "metadata": {},
   "outputs": [],
   "source": [
    "video_capture = cv2.VideoCapture(0)\n",
    "if not video_capture.isOpened():\n",
    "    print(\"Error: Could not open video capture.\")"
   ]
  },
  {
   "cell_type": "code",
   "execution_count": 11,
   "metadata": {},
   "outputs": [],
   "source": [
    "image = fr.load_image_file('Obama.jpg')"
   ]
  },
  {
   "cell_type": "code",
   "execution_count": 12,
   "metadata": {},
   "outputs": [],
   "source": [
    "image_face_encodings = fr.face_encodings(image)\n",
    "# image_face_encoding = fr.face_encodings(image)[0]\n",
    "if len(image_face_encodings) == 0:\n",
    "    raise ValueError(\"No face found in the reference image.\")"
   ]
  },
  {
   "cell_type": "code",
   "execution_count": 13,
   "metadata": {},
   "outputs": [],
   "source": [
    "image_face_encoding = image_face_encodings[0] \n",
    "known_face_encodings = [image_face_encoding]"
   ]
  },
  {
   "cell_type": "code",
   "execution_count": 15,
   "metadata": {},
   "outputs": [],
   "source": [
    "known_face_names = [\"Obama\"]"
   ]
  },
  {
   "cell_type": "code",
   "execution_count": 16,
   "metadata": {},
   "outputs": [
    {
     "name": "stdout",
     "output_type": "stream",
     "text": [
      "No face locations found in the frame.\n",
      "No face locations found in the frame.\n"
     ]
    },
    {
     "ename": "KeyboardInterrupt",
     "evalue": "",
     "output_type": "error",
     "traceback": [
      "\u001b[1;31m---------------------------------------------------------------------------\u001b[0m",
      "\u001b[1;31mKeyboardInterrupt\u001b[0m                         Traceback (most recent call last)",
      "Cell \u001b[1;32mIn[16], line 7\u001b[0m\n\u001b[0;32m      4\u001b[0m     \u001b[38;5;28;01mbreak\u001b[39;00m\n\u001b[0;32m      5\u001b[0m rgb_frame \u001b[38;5;241m=\u001b[39m cv2\u001b[38;5;241m.\u001b[39mcvtColor(frame, cv2\u001b[38;5;241m.\u001b[39mCOLOR_BGR2RGB)\n\u001b[1;32m----> 7\u001b[0m fc_locations \u001b[38;5;241m=\u001b[39m fr\u001b[38;5;241m.\u001b[39mface_locations(rgb_frame)\n\u001b[0;32m      8\u001b[0m \u001b[38;5;28;01mif\u001b[39;00m \u001b[38;5;129;01mnot\u001b[39;00m fc_locations:\n\u001b[0;32m      9\u001b[0m     \u001b[38;5;28mprint\u001b[39m(\u001b[38;5;124m\"\u001b[39m\u001b[38;5;124mNo face locations found in the frame.\u001b[39m\u001b[38;5;124m\"\u001b[39m)\n",
      "File \u001b[1;32mC:\\Anaconda\\Lib\\site-packages\\face_recognition\\api.py:121\u001b[0m, in \u001b[0;36mface_locations\u001b[1;34m(img, number_of_times_to_upsample, model)\u001b[0m\n\u001b[0;32m    119\u001b[0m     \u001b[38;5;28;01mreturn\u001b[39;00m [_trim_css_to_bounds(_rect_to_css(face\u001b[38;5;241m.\u001b[39mrect), img\u001b[38;5;241m.\u001b[39mshape) \u001b[38;5;28;01mfor\u001b[39;00m face \u001b[38;5;129;01min\u001b[39;00m _raw_face_locations(img, number_of_times_to_upsample, \u001b[38;5;124m\"\u001b[39m\u001b[38;5;124mcnn\u001b[39m\u001b[38;5;124m\"\u001b[39m)]\n\u001b[0;32m    120\u001b[0m \u001b[38;5;28;01melse\u001b[39;00m:\n\u001b[1;32m--> 121\u001b[0m     \u001b[38;5;28;01mreturn\u001b[39;00m [_trim_css_to_bounds(_rect_to_css(face), img\u001b[38;5;241m.\u001b[39mshape) \u001b[38;5;28;01mfor\u001b[39;00m face \u001b[38;5;129;01min\u001b[39;00m _raw_face_locations(img, number_of_times_to_upsample, model)]\n",
      "File \u001b[1;32mC:\\Anaconda\\Lib\\site-packages\\face_recognition\\api.py:105\u001b[0m, in \u001b[0;36m_raw_face_locations\u001b[1;34m(img, number_of_times_to_upsample, model)\u001b[0m\n\u001b[0;32m    103\u001b[0m     \u001b[38;5;28;01mreturn\u001b[39;00m cnn_face_detector(img, number_of_times_to_upsample)\n\u001b[0;32m    104\u001b[0m \u001b[38;5;28;01melse\u001b[39;00m:\n\u001b[1;32m--> 105\u001b[0m     \u001b[38;5;28;01mreturn\u001b[39;00m face_detector(img, number_of_times_to_upsample)\n",
      "\u001b[1;31mKeyboardInterrupt\u001b[0m: "
     ]
    }
   ],
   "source": [
    "while True:\n",
    "    ret, frame = video_capture.read()\n",
    "    if not ret:\n",
    "        break\n",
    "    rgb_frame = cv2.cvtColor(frame, cv2.COLOR_BGR2RGB)\n",
    "\n",
    "    fc_locations = fr.face_locations(rgb_frame)\n",
    "    if not fc_locations:\n",
    "        print(\"No face locations found in the frame.\")\n",
    "        continue\n",
    "\n",
    "    fc_encodings = fr.face_encodings(rgb_frame, fc_locations)\n",
    "\n",
    "    for(top, right, bottom, left), face_encoding in zip(fc_locations, fc_encodings):\n",
    "        matches = fr.compare_faces(known_face_encodings, face_encoding)\n",
    "        name = \"Unknown\"\n",
    "\n",
    "        fc_distances = fr.face_distance(known_face_encodings, face_encoding)\n",
    "        match_index = np.argmin(fc_distances)\n",
    "        if matches[match_index]:\n",
    "            name = known_face_names[match_index]\n",
    "\n",
    "        cv2.rectangle(frame, (left, top), (right, bottom), (0, 0, 255), 2)\n",
    "        cv2.rectangle(frame, (left, bottom - 35), (right, bottom), (0, 0, 255), cv2.FILLED)\n",
    "        font = cv2.FONT_HERSHEY_SIMPLEX\n",
    "        cv2.putText(frame, name, (left + 6, bottom - 6), font, 1.0, (255, 255, 255), 1)\n",
    "\n",
    "    cv2.imshow('Test 1 for video face recognition', frame)\n",
    "    if cv2.waitKey(1) & 0xFF == ord('q'):\n",
    "        break\n",
    "\n",
    "video_capture.release()\n",
    "cv2.destroyAllWindows()"
   ]
  },
  {
   "cell_type": "code",
   "execution_count": 4,
   "metadata": {},
   "outputs": [
    {
     "name": "stdout",
     "output_type": "stream",
     "text": [
      "Face encodings: [array([-5.94348572e-02,  1.17753856e-01,  3.73517796e-02, -8.68298262e-02,\n",
      "       -5.48617542e-03,  1.77892130e-02, -1.17904142e-01, -8.37121010e-02,\n",
      "        2.22810790e-01, -1.79745898e-01,  2.52882004e-01,  8.28868300e-02,\n",
      "       -1.58478484e-01, -1.14866085e-01,  7.69766048e-02,  1.26359925e-01,\n",
      "       -2.09321976e-01, -7.85976499e-02, -1.03819855e-01, -8.72244388e-02,\n",
      "        4.17505279e-02, -1.42008718e-03,  5.04366904e-02,  3.16852294e-02,\n",
      "       -1.49321005e-01, -3.72642696e-01, -8.23974833e-02, -1.36736140e-01,\n",
      "        1.86242126e-02, -1.51702449e-01, -7.84574449e-02, -3.00910529e-02,\n",
      "       -1.90597743e-01, -7.27553740e-02, -3.67443711e-02, -1.07236290e-02,\n",
      "        3.35361343e-04, -4.28083837e-02,  1.19522780e-01,  3.02284881e-02,\n",
      "       -9.92610678e-02,  8.70907381e-02, -2.70905457e-02,  1.64061517e-01,\n",
      "        2.86860764e-01,  7.90738165e-02,  2.12505460e-02, -7.50056282e-02,\n",
      "        1.23344362e-01, -2.09780872e-01,  2.57167034e-02,  1.13710284e-01,\n",
      "        5.37981465e-02,  2.68551372e-02,  1.03005089e-01, -1.64047420e-01,\n",
      "       -1.31584797e-03,  8.42477605e-02, -1.83390647e-01,  2.98764072e-02,\n",
      "        1.40972361e-02, -5.56386262e-02, -6.87190145e-02,  5.11844344e-02,\n",
      "        2.13456094e-01,  1.22742832e-01, -1.11955769e-01, -9.56441388e-02,\n",
      "        1.27965510e-01, -6.04673102e-02,  1.41686555e-02, -2.35393383e-02,\n",
      "       -1.52986839e-01, -2.16916740e-01, -2.06395254e-01,  6.82106689e-02,\n",
      "        3.23446244e-01,  1.77453935e-01, -1.97833464e-01,  8.60146135e-02,\n",
      "       -1.61822841e-01,  2.36844514e-02,  4.61579524e-02, -8.01838189e-03,\n",
      "       -7.09615573e-02, -7.60057196e-02, -4.69314568e-02,  6.06513098e-02,\n",
      "        9.88939255e-02,  5.64719737e-02, -1.02547435e-02,  2.46464372e-01,\n",
      "       -6.91033900e-02,  1.26198651e-02,  4.18577455e-02,  2.08157841e-02,\n",
      "       -1.62669078e-01, -1.60740968e-02, -1.21763118e-01, -8.47117677e-02,\n",
      "        6.62832037e-02, -6.04587346e-02,  7.21924799e-03,  1.00514852e-01,\n",
      "       -2.17153341e-01,  1.32877529e-01, -3.80836278e-02,  1.30557455e-04,\n",
      "        4.48988713e-02,  5.67616485e-02, -9.51901078e-02, -2.85247266e-02,\n",
      "        1.03198037e-01, -2.51681119e-01,  2.17632473e-01,  2.16781989e-01,\n",
      "        2.77376603e-02,  1.93441674e-01,  8.80715251e-02,  6.29435703e-02,\n",
      "       -1.79621242e-02,  1.27160903e-02, -1.75321057e-01, -6.55242056e-02,\n",
      "        3.21264304e-02,  3.11214142e-02,  9.15246233e-02,  9.49363038e-03])]\n"
     ]
    }
   ],
   "source": [
    "import face_recognition\n",
    "\n",
    "# Load the image\n",
    "image = face_recognition.load_image_file(\"Obama.jpg\")\n",
    "\n",
    "# Detect face locations\n",
    "face_locations = face_recognition.face_locations(image)\n",
    "\n",
    "if not face_locations:\n",
    "    print(\"No faces detected in the image.\")\n",
    "else:\n",
    "    try:\n",
    "        # Generate 128-dimension encodings for each face\n",
    "        face_encodings = face_recognition.face_encodings(image, known_face_locations=face_locations)\n",
    "        print(\"Face encodings:\", face_encodings)\n",
    "    except Exception as e:\n",
    "        print(\"Error generating face encodings:\", e)"
   ]
  },
  {
   "cell_type": "code",
   "execution_count": 1,
   "metadata": {},
   "outputs": [
    {
     "name": "stdout",
     "output_type": "stream",
     "text": [
      "Image captured!\n",
      "Image shape: (480, 640, 3)\n",
      "Image dtype: uint8\n",
      "Face encodings: [array([-1.33255169e-01,  4.61900607e-04,  1.09722205e-01, -7.15077147e-02,\n",
      "       -1.53383464e-01, -5.16897589e-02, -3.86649296e-02, -6.04039356e-02,\n",
      "        2.15003341e-01, -1.19088948e-01,  1.43777117e-01, -6.15313239e-02,\n",
      "       -2.96968341e-01,  2.84604952e-02, -1.21408857e-01,  1.82395846e-01,\n",
      "       -2.03627631e-01, -1.83880970e-01, -2.72212960e-02, -5.84680662e-02,\n",
      "        1.10474460e-01,  2.86412742e-02, -4.09332453e-04,  9.41477045e-02,\n",
      "       -8.41805041e-02, -3.48859698e-01, -1.15064994e-01, -1.49232792e-02,\n",
      "       -5.75941168e-02, -1.22446962e-01,  4.91434410e-02,  2.05541998e-01,\n",
      "       -1.70068622e-01, -8.89109075e-03, -3.91335078e-02,  1.59487665e-01,\n",
      "        3.64331417e-02, -1.57246426e-01,  1.53142333e-01,  6.02673031e-02,\n",
      "       -2.32801542e-01,  2.67564179e-03,  5.15786931e-02,  2.93849170e-01,\n",
      "        1.81742340e-01,  1.60116125e-02,  3.69372591e-02, -9.61389542e-02,\n",
      "        1.06004208e-01, -4.31282520e-01, -3.21367905e-02,  1.92118004e-01,\n",
      "        5.61544895e-02,  1.17575657e-02,  1.28600568e-01, -2.11808950e-01,\n",
      "        5.15225641e-02,  1.04988612e-01, -1.70303687e-01,  1.14112735e-01,\n",
      "        3.45869698e-02, -1.71719477e-01,  5.06015345e-02, -1.77432999e-01,\n",
      "        2.40653083e-01,  1.35035053e-01, -1.27586305e-01, -1.37707874e-01,\n",
      "        2.20014736e-01, -1.84228703e-01, -1.57836854e-01,  1.06759846e-01,\n",
      "       -8.86863023e-02, -2.02506527e-01, -3.73565465e-01, -4.81107179e-03,\n",
      "        3.80139709e-01,  1.71811521e-01, -1.85848206e-01,  1.17715970e-01,\n",
      "       -6.20882586e-02,  3.19958199e-03, -2.74112877e-02,  2.32411519e-01,\n",
      "       -3.62542421e-02,  5.56664541e-02, -1.90450370e-01, -2.06844341e-02,\n",
      "        2.40731716e-01,  6.27502287e-03, -1.44553008e-02,  3.11513871e-01,\n",
      "        3.21858972e-02,  3.89457569e-02,  3.40439193e-02,  7.35868961e-02,\n",
      "       -1.05353825e-01, -2.86622569e-02, -1.81634992e-01,  1.91426510e-03,\n",
      "        1.27901612e-02, -7.29676783e-02, -7.51079693e-02,  9.92105827e-02,\n",
      "       -1.62022874e-01,  1.17683858e-01, -1.28909737e-01, -8.91899467e-02,\n",
      "       -1.27457321e-01, -1.24178812e-01, -5.79436496e-02,  1.06763631e-01,\n",
      "        1.82466388e-01, -3.34993422e-01,  1.30300283e-01,  2.13101268e-01,\n",
      "        5.77862673e-02,  1.90994531e-01,  6.17983378e-02,  9.89673287e-02,\n",
      "       -2.48448886e-02, -1.06689729e-01, -1.62404612e-01, -9.04653519e-02,\n",
      "        2.29480844e-02, -8.32735300e-02, -4.82012928e-02,  9.44584385e-02])]\n",
      "No attendance marked\n"
     ]
    }
   ],
   "source": [
    "from IPython.display import display, clear_output\n",
    "import cv2\n",
    "import face_recognition as fr\n",
    "import numpy as np\n",
    "\n",
    "video_capture = cv2.VideoCapture(0)\n",
    "if not video_capture.isOpened():\n",
    "    print(\"Error: Could not open video capture.\")\n",
    "    exit()\n",
    "\n",
    "known_face_encodings = [\n",
    "    fr.face_encodings(fr.load_image_file(\"Daniel.jpeg\"))[0],\n",
    "    fr.face_encodings(fr.load_image_file(\"Derek.jpeg\"))[0],\n",
    "    fr.face_encodings(fr.load_image_file(\"Anvaya.jpg\"))[0],\n",
    "    fr.face_encodings(fr.load_image_file(\"Obama.jpg\"))[0],\n",
    "    fr.face_encodings(fr.load_image_file(\"Kate.jpg\"))[0],\n",
    "    fr.face_encodings(fr.load_image_file(\"Bob.jpg\"))[0],\n",
    "    fr.face_encodings(fr.load_image_file(\"Biden.jpg\"))[0],\n",
    "]\n",
    "known_face_names = [\"Daniel\", \"Derek\", \"Anvaya\", \"Obama\", \"Kate\", \"Bob\", \"Biden\"]\n",
    "while True:\n",
    "    ret, frame = video_capture.read()\n",
    "    if not ret:\n",
    "        print(\"Failed to capture video frame.\")\n",
    "        break\n",
    "\n",
    "    cv2.imshow('Video Feed', frame)\n",
    "\n",
    "    key = cv2.waitKey(1) & 0xFF\n",
    "    if key == ord('c'):  \n",
    "        print(\"Image captured!\")\n",
    "        break\n",
    "    elif key == ord('q'):  \n",
    "        print(\"Exiting without capturing.\")\n",
    "        video_capture.release()\n",
    "        cv2.destroyAllWindows()\n",
    "        exit()\n",
    "rgb_frame = cv2.cvtColor(frame, cv2.COLOR_BGR2RGB)\n",
    "fc_locations = fr.face_locations(rgb_frame)\n",
    "if len(fc_locations) == 0:\n",
    "    print(\"No face detected. Please try again.\")\n",
    "    exit()\n",
    "print(\"Image shape:\", rgb_frame.shape)  \n",
    "print(\"Image dtype:\", rgb_frame.dtype)  \n",
    "\n",
    "try:\n",
    "    fc_encodings = fr.face_encodings(rgb_frame, fc_locations)\n",
    "    print(\"Face encodings:\", fc_encodings)\n",
    "except Exception as e:\n",
    "    print(\"Error while generating face encodings:\", e)\n",
    "\n",
    "for(top, right, bottom, left), face_encoding in zip(fc_locations, fc_encodings):\n",
    "    matches = fr.compare_faces(known_face_encodings, face_encoding)\n",
    "    name = \"Unknown\"\n",
    "\n",
    "    fc_distances = fr.face_distance(known_face_encodings, face_encoding)\n",
    "    match_index = np.argmin(fc_distances)\n",
    "    if matches[match_index]:\n",
    "        name = known_face_names[match_index]\n",
    "        print(\"Attendance marked for\", name)\n",
    "    elif name == \"Unknown\":\n",
    "        print(\"No attendance marked\")\n",
    "\n",
    "video_capture.release()\n",
    "cv2.destroyAllWindows()\n"
   ]
  },
  {
   "cell_type": "code",
   "execution_count": 1,
   "metadata": {},
   "outputs": [
    {
     "name": "stdout",
     "output_type": "stream",
     "text": [
      "Requirement already satisfied: face_recognition in c:\\anaconda\\lib\\site-packages (1.3.0)\n",
      "Requirement already satisfied: dlib in c:\\anaconda\\lib\\site-packages (19.24.6)\n",
      "Requirement already satisfied: face-recognition-models>=0.3.0 in c:\\anaconda\\lib\\site-packages (from face_recognition) (0.3.0)\n",
      "Requirement already satisfied: Click>=6.0 in c:\\anaconda\\lib\\site-packages (from face_recognition) (8.0.4)\n",
      "Requirement already satisfied: numpy in c:\\anaconda\\lib\\site-packages (from face_recognition) (1.26.4)\n",
      "Requirement already satisfied: Pillow in c:\\anaconda\\lib\\site-packages (from face_recognition) (9.4.0)\n",
      "Requirement already satisfied: colorama in c:\\anaconda\\lib\\site-packages (from Click>=6.0->face_recognition) (0.4.6)\n",
      "Note: you may need to restart the kernel to use updated packages.\n"
     ]
    },
    {
     "name": "stderr",
     "output_type": "stream",
     "text": [
      "\n",
      "[notice] A new release of pip is available: 24.0 -> 24.3.1\n",
      "[notice] To update, run: python.exe -m pip install --upgrade pip\n"
     ]
    }
   ],
   "source": [
    "pip install --upgrade face_recognition dlib"
   ]
  },
  {
   "cell_type": "code",
   "execution_count": null,
   "metadata": {},
   "outputs": [],
   "source": []
  }
 ],
 "metadata": {
  "kernelspec": {
   "display_name": "Python 3",
   "language": "python",
   "name": "python3"
  },
  "language_info": {
   "codemirror_mode": {
    "name": "ipython",
    "version": 3
   },
   "file_extension": ".py",
   "mimetype": "text/x-python",
   "name": "python",
   "nbconvert_exporter": "python",
   "pygments_lexer": "ipython3",
   "version": "3.11.5"
  }
 },
 "nbformat": 4,
 "nbformat_minor": 2
}
